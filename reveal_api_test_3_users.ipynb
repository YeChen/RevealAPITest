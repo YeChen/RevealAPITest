{
  "nbformat": 4,
  "nbformat_minor": 0,
  "metadata": {
    "colab": {
      "provenance": [],
      "authorship_tag": "ABX9TyM7pXBXRY+zc0mQsVYy/RKT",
      "include_colab_link": true
    },
    "kernelspec": {
      "name": "python3",
      "display_name": "Python 3"
    },
    "language_info": {
      "name": "python"
    }
  },
  "cells": [
    {
      "cell_type": "markdown",
      "metadata": {
        "id": "view-in-github",
        "colab_type": "text"
      },
      "source": [
        "<a href=\"https://colab.research.google.com/github/YeChen/RevealAPITest/blob/main/reveal_api_test_3_users.ipynb\" target=\"_parent\"><img src=\"https://colab.research.google.com/assets/colab-badge.svg\" alt=\"Open In Colab\"/></a>"
      ]
    },
    {
      "cell_type": "code",
      "execution_count": null,
      "metadata": {
        "id": "2ERhF8dDYBgm"
      },
      "outputs": [],
      "source": []
    },
    {
      "cell_type": "code",
      "source": [
        "import requests\n",
        "import os\n",
        "from google.colab import userdata\n",
        "from IPython.display import display, HTML\n",
        "\n",
        "# Step 1: Retrieve USER and PASSWORD secrets from Colab\n",
        "username = userdata.get(\"DEMO_USER\")\n",
        "password = userdata.get(\"DEMO_PASSWORD\")\n",
        "\n",
        "if not username or not password:\n",
        "    raise ValueError(\"Secrets USER and PASSWORD must be set in Colab.\")\n",
        "\n",
        "def print_color(message, color):\n",
        "    display(HTML(f'<p style=\"color: {color};\">{message}</p>'))\n",
        "\n",
        "# Step 2: Define the authentication function\n",
        "def authenticate(username, password):\n",
        "    \"\"\"\n",
        "    Authenticates with the Reveal API using username and password.\n",
        "    Returns loginSessionId and userId if authentication is successful.\n",
        "    \"\"\"\n",
        "    login_url = \"https://consulting.us-east-1.reveal11.cloud/rest/api/v2/login\"\n",
        "    login_data = {\n",
        "        \"username\": username,\n",
        "        \"password\": password\n",
        "    }\n",
        "\n",
        "    headers = {\n",
        "        \"Content-Type\": \"application/json\",\n",
        "        \"User-Agent\": \"Reveal-API-Tester/1.0\"\n",
        "    }\n",
        "\n",
        "    response = requests.post(login_url, json=login_data, headers=headers)\n",
        "    response.raise_for_status()  # Raise an error if the request fails\n",
        "\n",
        "    login_response = response.json()\n",
        "    login_session_id = login_response.get(\"loginSessionId\")\n",
        "    user_id = login_response.get(\"userId\")\n",
        "\n",
        "    if not login_session_id or not user_id:\n",
        "        raise ValueError(\"Failed to retrieve loginSessionId and userId from login response.\")\n",
        "\n",
        "    print(\"Authentication successful!\")\n",
        "    return login_session_id, user_id\n",
        "\n",
        "# Step 3: Define the function to retrieve projects\n",
        "def get_projects(login_session_id, user_id):\n",
        "    \"\"\"\n",
        "    Retrieves a list of projects for the authenticated user and returns the first project's projectId.\n",
        "    \"\"\"\n",
        "    projects_url = \"https://consulting.us-east-1.reveal11.cloud/rest/api/v2/projects\"\n",
        "\n",
        "    headers = {\n",
        "        \"Authorization\": f\"Bearer {login_session_id}\",\n",
        "        \"incontrolauthtoken\": login_session_id,\n",
        "        \"User-Agent\": \"Reveal-API-Tester/1.0\",\n",
        "        \"Accept\": \"application/json\"\n",
        "    }\n",
        "\n",
        "    params = {\"userId\": user_id}\n",
        "    response = requests.get(projects_url, headers=headers, params=params)\n",
        "    response.raise_for_status()\n",
        "\n",
        "    projects_response = response.json()\n",
        "    projects = projects_response.get(\"results\", [])\n",
        "\n",
        "    if not projects:\n",
        "        print(\"No projects found.\")\n",
        "        return None\n",
        "\n",
        "    # Extract the projectId of the first project\n",
        "    first_project = projects[0]\n",
        "    project_id = first_project.get(\"projectId\")\n",
        "    project_name = first_project.get(\"projectName\", \"Unnamed Project\")\n",
        "    print(f\"First project found: {project_name} (projectId: {project_id})\")\n",
        "    return project_id\n",
        "\n",
        "# Step 4: Define the function to get users for a project\n",
        "def get_project_users(login_session_id, project_id):\n",
        "    \"\"\"\n",
        "    Retrieves a list of users for the specified projectId.\n",
        "    \"\"\"\n",
        "    users_url = f\"https://consulting.us-east-1.reveal11.cloud/rest/api/v2/{project_id}/users\"\n",
        "\n",
        "    headers = {\n",
        "        \"Authorization\": f\"Bearer {login_session_id}\",\n",
        "        \"incontrolauthtoken\": login_session_id,\n",
        "        \"User-Agent\": \"Reveal-API-Tester/1.0\",\n",
        "        \"Accept\": \"application/json\"\n",
        "    }\n",
        "\n",
        "    response = requests.get(users_url, headers=headers)\n",
        "    response.raise_for_status()\n",
        "\n",
        "    users_response = response.json()\n",
        "    users = users_response.get(\"results\", [])\n",
        "\n",
        "    if users:\n",
        "        print(\"Users in the project:\")\n",
        "        for user in users:\n",
        "            print(f\"- {user.get('userName', 'Unknown')} (ID: {user.get('userId')})\")\n",
        "    else:\n",
        "        print(\"No users found for the project.\")\n",
        "\n",
        "# Main Execution\n",
        "try:\n",
        "    # Step 1: Authenticate to get session ID and user ID\n",
        "    session_id, user_id = authenticate(username, password)\n",
        "\n",
        "    # Step 2: Retrieve the first project ID\n",
        "    project_id = get_projects(session_id, user_id)\n",
        "\n",
        "    # Step 3: If project_id is found, retrieve and print users\n",
        "    if project_id:\n",
        "        get_project_users(session_id, project_id)\n",
        "\n",
        "except requests.exceptions.RequestException as e:\n",
        "    print_color(f\"API request failed: {e}\", \"red\")\n",
        "except ValueError as e:\n",
        "    print_color(f\"Error: {e}\", \"red\")\n"
      ],
      "metadata": {
        "colab": {
          "base_uri": "https://localhost:8080/"
        },
        "id": "rX8jeiPR7vMt",
        "outputId": "53cbe685-dd3e-423d-a96d-97912ecf7e23"
      },
      "execution_count": 3,
      "outputs": [
        {
          "output_type": "stream",
          "name": "stdout",
          "text": [
            "Authentication successful!\n",
            "First project found: DanProject2 (projectId: 1795)\n",
            "Users in the project:\n",
            "- dhonors (ID: 372)\n",
            "- dhonors2@revealdata.com (ID: 1715)\n",
            "- msa81010002_reviewapi (ID: 262)\n"
          ]
        }
      ]
    }
  ]
}