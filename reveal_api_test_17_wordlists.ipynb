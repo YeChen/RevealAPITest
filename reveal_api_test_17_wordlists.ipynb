{
  "nbformat": 4,
  "nbformat_minor": 0,
  "metadata": {
    "colab": {
      "provenance": [],
      "authorship_tag": "ABX9TyNWkKeppBWT4OtaMq1v+5BV",
      "include_colab_link": true
    },
    "kernelspec": {
      "name": "python3",
      "display_name": "Python 3"
    },
    "language_info": {
      "name": "python"
    }
  },
  "cells": [
    {
      "cell_type": "markdown",
      "metadata": {
        "id": "view-in-github",
        "colab_type": "text"
      },
      "source": [
        "<a href=\"https://colab.research.google.com/github/YeChen/RevealAPITest/blob/main/reveal_api_test_17_wordlists.ipynb\" target=\"_parent\"><img src=\"https://colab.research.google.com/assets/colab-badge.svg\" alt=\"Open In Colab\"/></a>"
      ]
    },
    {
      "cell_type": "code",
      "execution_count": 2,
      "metadata": {
        "colab": {
          "base_uri": "https://localhost:8080/"
        },
        "id": "1HOxAsSYUukZ",
        "outputId": "78aed905-c9d8-4004-8337-0389a9b0e110"
      },
      "outputs": [
        {
          "output_type": "stream",
          "name": "stdout",
          "text": [
            "Authentication successful!\n",
            "Hit Reports:\n",
            "Report Name: API_TEST_FROMSWAGGER\n",
            "  Terms:\n",
            "    - {'termId': '4', 'term': 'SWAGGER'}\n",
            "Report Name: API_TEST_MONEY\n",
            "  Terms:\n",
            "    - {'termId': '2', 'term': 'currency'}\n",
            "    - {'termId': '3', 'term': 'dolladollabillyall'}\n",
            "    - {'termId': '1', 'term': 'money'}\n"
          ]
        }
      ],
      "source": [
        "import requests\n",
        "import os\n",
        "from google.colab import userdata\n",
        "from IPython.display import display, HTML\n",
        "\n",
        "# Step 1: Retrieve USER, PASSWORD, and case_id secrets from Colab\n",
        "username = userdata.get(\"DEMO_USER\")\n",
        "password = userdata.get(\"DEMO_PASSWORD\")\n",
        "case_id = userdata.get(\"API_STANDARD_PROJECTID\")  # Renaming API_STANDARD_PROJECTID to case_id\n",
        "\n",
        "if not username or not password or not case_id:\n",
        "    raise ValueError(\"Secrets USER, PASSWORD, and case_id must be set in Colab.\")\n",
        "\n",
        "def print_color(message, color):\n",
        "    display(HTML(f'<p style=\"color: {color};\">{message}</p>'))\n",
        "\n",
        "# Step 2: Define the authentication function\n",
        "def authenticate(username, password):\n",
        "    \"\"\"\n",
        "    Authenticates with the Reveal API using username and password.\n",
        "    Returns loginSessionId and userId if authentication is successful.\n",
        "    \"\"\"\n",
        "    login_url = \"https://consulting.us-east-1.reveal11.cloud/rest/api/v2/login\"\n",
        "    login_data = {\n",
        "        \"username\": username,\n",
        "        \"password\": password\n",
        "    }\n",
        "\n",
        "    headers = {\n",
        "        \"Content-Type\": \"application/json\",\n",
        "        \"User-Agent\": \"Reveal-API-Tester/1.0\"\n",
        "    }\n",
        "\n",
        "    response = requests.post(login_url, json=login_data, headers=headers)\n",
        "    response.raise_for_status()  # Raise an error if the request fails\n",
        "\n",
        "    login_response = response.json()\n",
        "    login_session_id = login_response.get(\"loginSessionId\")\n",
        "    user_id = login_response.get(\"userId\")\n",
        "\n",
        "    if not login_session_id or not user_id:\n",
        "        raise ValueError(\"Failed to retrieve loginSessionId and userId from login response.\")\n",
        "\n",
        "    print(\"Authentication successful!\")\n",
        "    return login_session_id, user_id\n",
        "\n",
        "# Step 3: Define the function to get hit reports\n",
        "def get_hit_reports(login_session_id, case_id):\n",
        "    \"\"\"\n",
        "    Retrieves a list of hit reports for the specified caseId, including terms under each name.\n",
        "    \"\"\"\n",
        "    hit_report_url = f\"https://consulting.us-east-1.reveal11.cloud/rest/api/v2/{case_id}/jobs/hitreport\"\n",
        "\n",
        "    headers = {\n",
        "        \"Authorization\": f\"Bearer {login_session_id}\",\n",
        "        \"incontrolauthtoken\": login_session_id,\n",
        "        \"User-Agent\": \"Reveal-API-Tester/1.0\",\n",
        "        \"Accept\": \"application/json\"\n",
        "    }\n",
        "\n",
        "    response = requests.get(hit_report_url, headers=headers)\n",
        "    response.raise_for_status()\n",
        "\n",
        "    hit_reports_response = response.json()\n",
        "\n",
        "    # Check if the API response contains results\n",
        "    hit_reports = hit_reports_response.get(\"results\", hit_reports_response)\n",
        "\n",
        "    if isinstance(hit_reports, list):\n",
        "        print(\"Hit Reports:\")\n",
        "        for report in hit_reports:\n",
        "            report_name = report.get(\"name\", \"Unnamed Report\")\n",
        "            print(f\"Report Name: {report_name}\")\n",
        "\n",
        "            # Extract terms if they exist\n",
        "            terms = report.get(\"terms\", [])\n",
        "            if terms:\n",
        "                print(\"  Terms:\")\n",
        "                for term in terms:\n",
        "                    print(f\"    - {term}\")\n",
        "            else:\n",
        "                print(\"  No terms found for this report.\")\n",
        "    else:\n",
        "        print(\"Unexpected data structure for hit reports:\", hit_reports)\n",
        "\n",
        "# Main Execution\n",
        "try:\n",
        "    # Step 1: Authenticate to get session ID and user ID\n",
        "    session_id, user_id = authenticate(username, password)\n",
        "\n",
        "    # Step 2: Retrieve and print hit reports and terms for the specified case_id\n",
        "    get_hit_reports(session_id, case_id)\n",
        "\n",
        "except requests.exceptions.RequestException as e:\n",
        "    print_color(f\"API request failed: {e}\", \"red\")\n",
        "except ValueError as e:\n",
        "    print_color(f\"Error: {e}\", \"red\")\n"
      ]
    }
  ]
}